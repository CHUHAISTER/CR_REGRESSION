{
 "cells": [
  {
   "cell_type": "code",
   "execution_count": 32,
   "id": "41e124d4-db37-4b46-9946-ec9665a26539",
   "metadata": {},
   "outputs": [],
   "source": [
    "import pandas as pd\n",
    "from sklearn.model_selection import train_test_split"
   ]
  },
  {
   "cell_type": "code",
   "execution_count": 33,
   "id": "310b627a-53cd-4bab-852d-a37641307e1e",
   "metadata": {},
   "outputs": [],
   "source": [
    "ds = pd.read_csv(\"5e_monster_data_5eTools.csv\")\n",
    "ds = ds[ds['cr'] != '-']"
   ]
  },
  {
   "cell_type": "code",
   "execution_count": 34,
   "id": "b3a1102b-60e7-4380-9dbe-362e8c4000fc",
   "metadata": {},
   "outputs": [],
   "source": [
    "X_columns =['hp', 'ac', \n",
    "        'str', 'dex', 'con', 'int', 'wis', 'cha', \n",
    "        'str save', 'dex save', 'con save', 'int save', 'wis save', 'cha save', \n",
    "        'walk', 'fly', 'swim', 'burrow', 'climb', 'hover', \n",
    "        'size', 'alignment', 'type', 'source']\n"
   ]
  },
  {
   "cell_type": "code",
   "execution_count": 35,
   "id": "0a5f8def-8b6e-4c57-89a2-01de472e95bf",
   "metadata": {},
   "outputs": [],
   "source": [
    "X_train, X_test = train_test_split(ds, train_size=0.8)\n",
    "X_train, X_testt = train_test_split(ds, test_size=0.2, random_state=15)"
   ]
  },
  {
   "cell_type": "code",
   "execution_count": 36,
   "id": "62e5820f-8960-4406-8961-a1d20584e605",
   "metadata": {},
   "outputs": [
    {
     "data": {
      "text/plain": [
       "(2245, 30)"
      ]
     },
     "execution_count": 36,
     "metadata": {},
     "output_type": "execute_result"
    }
   ],
   "source": [
    "X_train.shape"
   ]
  },
  {
   "cell_type": "code",
   "execution_count": 37,
   "id": "b420027a-1696-47ba-a825-1e487613ad52",
   "metadata": {},
   "outputs": [],
   "source": [
    "X_train.to_csv('data_train.csv', index=False)"
   ]
  },
  {
   "cell_type": "code",
   "execution_count": 38,
   "id": "155ceebf-c7f7-483c-bffd-404ac61a5afc",
   "metadata": {},
   "outputs": [
    {
     "data": {
      "text/plain": [
       "(562, 30)"
      ]
     },
     "execution_count": 38,
     "metadata": {},
     "output_type": "execute_result"
    }
   ],
   "source": [
    "X_test.shape"
   ]
  },
  {
   "cell_type": "code",
   "execution_count": 39,
   "id": "52464eb4-6633-4038-9e6d-6bdb6a86afd5",
   "metadata": {},
   "outputs": [],
   "source": [
    "X_test[X_columns].to_csv('data_test.csv', index=False)"
   ]
  }
 ],
 "metadata": {
  "kernelspec": {
   "display_name": "Python 3 (ipykernel)",
   "language": "python",
   "name": "python3"
  },
  "language_info": {
   "codemirror_mode": {
    "name": "ipython",
    "version": 3
   },
   "file_extension": ".py",
   "mimetype": "text/x-python",
   "name": "python",
   "nbconvert_exporter": "python",
   "pygments_lexer": "ipython3",
   "version": "3.11.5"
  }
 },
 "nbformat": 4,
 "nbformat_minor": 5
}
